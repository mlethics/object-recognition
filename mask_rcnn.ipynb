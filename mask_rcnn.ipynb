{
  "nbformat": 4,
  "nbformat_minor": 0,
  "metadata": {
    "colab": {
      "name": "Mask R-CNN object recognition and segmentation.ipynb",
      "provenance": [],
      "collapsed_sections": []
    },
    "kernelspec": {
      "name": "python3",
      "display_name": "Python 3"
    },
    "accelerator": "GPU"
  },
  "cells": [
    {
      "cell_type": "markdown",
      "metadata": {
        "id": "S3ppCu6EjjVm",
        "colab_type": "text"
      },
      "source": [
        "#### **Download Mask R-CNN library**\n",
        "For this assignment, you will perform object detection and segmentation using Mask R-CNN, a state-of-the-art deep learning model. You will implement the model using the Mask R-CNN package in Python. To get started, you first need to download the library from GitHub, a popular online code repository."
      ]
    },
    {
      "cell_type": "code",
      "metadata": {
        "id": "myZ_LqirK6bZ",
        "colab_type": "code",
        "colab": {}
      },
      "source": [
        "# download Mask RCNN library\n",
        "!git clone https://github.com/matterport/Mask_RCNN.git"
      ],
      "execution_count": 0,
      "outputs": []
    },
    {
      "cell_type": "markdown",
      "metadata": {
        "id": "-vzGQG-RAue5",
        "colab_type": "text"
      },
      "source": [
        "#### **Import necessary packages**\n",
        "Next, you need to load the code needed for the assignment from Mask R-CNN and other Python packages."
      ]
    },
    {
      "cell_type": "code",
      "metadata": {
        "id": "G50GFF53So2d",
        "colab_type": "code",
        "colab": {}
      },
      "source": [
        "import os\n",
        "\n",
        "os.chdir('Mask_RCNN')\n",
        "\n",
        "from mrcnn import utils\n",
        "from mrcnn.model import MaskRCNN\n",
        "from mrcnn.config import Config\n",
        "from mrcnn import visualize\n",
        "import urllib.request\n",
        "import skimage.io\n",
        "import matplotlib.pyplot as plt\n",
        "\n",
        "os.chdir('../')"
      ],
      "execution_count": 0,
      "outputs": []
    },
    {
      "cell_type": "markdown",
      "metadata": {
        "id": "ip5GXkdnBoHo",
        "colab_type": "text"
      },
      "source": [
        "####**Download pre-trained model weights**\n",
        "You will be using a version of the Mask R-CNN model that has been pre-trained on COCO, a large-scale object detection and segementation dataset. The pre-trained model weights are available on GitHub."
      ]
    },
    {
      "cell_type": "code",
      "metadata": {
        "id": "Sk5Ubg9wLcwA",
        "colab_type": "code",
        "colab": {}
      },
      "source": [
        "# download pre-trained model weights (takes a minute)\n",
        "\n",
        "url = \"https://github.com/matterport/Mask_RCNN/releases/download/v2.0/mask_rcnn_coco.h5\"\n",
        "urllib.request.urlretrieve(url, 'model_weights.h5')"
      ],
      "execution_count": 0,
      "outputs": []
    },
    {
      "cell_type": "markdown",
      "metadata": {
        "id": "mdoHagdsBYS7",
        "colab_type": "text"
      },
      "source": [
        "####**Define class names**\n",
        "These are the object types that the model is trained to detect."
      ]
    },
    {
      "cell_type": "code",
      "metadata": {
        "id": "wS4M3HujTthB",
        "colab_type": "code",
        "colab": {}
      },
      "source": [
        "# COCO Class names\n",
        "class_names = ['BG', 'person', 'bicycle', 'car', 'motorcycle', 'airplane',\n",
        "               'bus', 'train', 'truck', 'boat', 'traffic light',\n",
        "               'fire hydrant', 'stop sign', 'parking meter', 'bench', 'bird',\n",
        "               'cat', 'dog', 'horse', 'sheep', 'cow', 'elephant', 'bear',\n",
        "               'zebra', 'giraffe', 'backpack', 'umbrella', 'handbag', 'tie',\n",
        "               'suitcase', 'frisbee', 'skis', 'snowboard', 'sports ball',\n",
        "               'kite', 'baseball bat', 'baseball glove', 'skateboard',\n",
        "               'surfboard', 'tennis racket', 'bottle', 'wine glass', 'cup',\n",
        "               'fork', 'knife', 'spoon', 'bowl', 'banana', 'apple',\n",
        "               'sandwich', 'orange', 'broccoli', 'carrot', 'hot dog', 'pizza',\n",
        "               'donut', 'cake', 'chair', 'couch', 'potted plant', 'bed',\n",
        "               'dining table', 'toilet', 'tv', 'laptop', 'mouse', 'remote',\n",
        "               'keyboard', 'cell phone', 'microwave', 'oven', 'toaster',\n",
        "               'sink', 'refrigerator', 'book', 'clock', 'vase', 'scissors',\n",
        "               'teddy bear', 'hair drier', 'toothbrush']"
      ],
      "execution_count": 0,
      "outputs": []
    },
    {
      "cell_type": "markdown",
      "metadata": {
        "id": "yhg-rUx-A0P5",
        "colab_type": "text"
      },
      "source": [
        "####**Set up model configuration**\n",
        "Before you use the model, you need to provide some instructions. You don't need to worry about these details for now."
      ]
    },
    {
      "cell_type": "code",
      "metadata": {
        "id": "8234aM_aEbcw",
        "colab_type": "code",
        "colab": {}
      },
      "source": [
        "# create a class for the COCO model\n",
        "\n",
        "class InferenceConfig(Config):\n",
        "\n",
        "    NAME = \"coco\"\n",
        "    GPU_COUNT = 1\n",
        "    IMAGES_PER_GPU = 1\n",
        "\n",
        "    # Number of classes (including background)\n",
        "    NUM_CLASSES = 81  # COCO has 80 classes\n",
        "\n",
        "# create an instance of the class\n",
        "config = InferenceConfig()"
      ],
      "execution_count": 0,
      "outputs": []
    },
    {
      "cell_type": "markdown",
      "metadata": {
        "id": "B5W6mp8hBwNA",
        "colab_type": "text"
      },
      "source": [
        "####**Create the model and load weights**\n",
        "Here, we set up a Mask R-CNN model. We pass along the instructions defined above (config) and specify that we want to use the model to make predictions (mode = \"inference\"). Next, we load the pre-trained weights we downloaded above. "
      ]
    },
    {
      "cell_type": "code",
      "metadata": {
        "id": "l5E5sq2UEuJA",
        "colab_type": "code",
        "colab": {}
      },
      "source": [
        "# instantiate model and loaded weights\n",
        "model = MaskRCNN(mode = \"inference\", model_dir = \"./\", config = config)\n",
        "model.load_weights('model_weights.h5', by_name = True)"
      ],
      "execution_count": 0,
      "outputs": []
    },
    {
      "cell_type": "markdown",
      "metadata": {
        "id": "xh3stI3tCBg1",
        "colab_type": "text"
      },
      "source": [
        "####**Examine the layers in the model**\n",
        "It's a big one."
      ]
    },
    {
      "cell_type": "code",
      "metadata": {
        "id": "zpwC_NQyT0sg",
        "colab_type": "code",
        "colab": {}
      },
      "source": [
        "# look at model layers\n",
        "model.keras_model.summary()"
      ],
      "execution_count": 0,
      "outputs": []
    },
    {
      "cell_type": "markdown",
      "metadata": {
        "id": "2mPbk3RvCDwV",
        "colab_type": "text"
      },
      "source": [
        "####**Load and plot an image**\n",
        "To upload an image, select the \"Files\" tab in the window to the left, then click the \"Upload\" button and select the file you want to upload. In the code below, replace 'your_filename.jpg' with the actual name of the file you uploaded."
      ]
    },
    {
      "cell_type": "code",
      "metadata": {
        "id": "hkUKbDD5GpMQ",
        "colab_type": "code",
        "colab": {}
      },
      "source": [
        "# Load and plot an image\n",
        "# upload your image by selecting the Files tab to the left and clicking \"Upload\"\n",
        "\n",
        "filename = 'your_filename.jpg'\n",
        "\n",
        "image = skimage.io.imread(filename)\n",
        "\n",
        "plt.figure(figsize=(12,10))\n",
        "skimage.io.imshow(image)"
      ],
      "execution_count": 0,
      "outputs": []
    },
    {
      "cell_type": "markdown",
      "metadata": {
        "id": "k_mAoQc-CUmz",
        "colab_type": "text"
      },
      "source": [
        "####**Run object detection**\n",
        "Now we plug the image into the model and get predicted bounding boxes, masks, and labels for the objects that the model detects."
      ]
    },
    {
      "cell_type": "code",
      "metadata": {
        "id": "lVUlSCw-JfIA",
        "colab_type": "code",
        "colab": {}
      },
      "source": [
        "# get predictions\n",
        "results = model.detect([image])"
      ],
      "execution_count": 0,
      "outputs": []
    },
    {
      "cell_type": "markdown",
      "metadata": {
        "id": "N5Hd3IwYChIV",
        "colab_type": "text"
      },
      "source": [
        "####**Plot image and display detected objects**\n",
        "Finally, we can plot the results. How did the model do? "
      ]
    },
    {
      "cell_type": "code",
      "metadata": {
        "id": "50bZQHiBJkrq",
        "colab_type": "code",
        "colab": {}
      },
      "source": [
        "# Visualize results\n",
        "\n",
        "r = results[0]\n",
        "visualize.display_instances(image, r['rois'], r['masks'], r['class_ids'], class_names, r['scores'])"
      ],
      "execution_count": 0,
      "outputs": []
    },
    {
      "cell_type": "markdown",
      "metadata": {
        "id": "UPBgtS3ZtuKE",
        "colab_type": "text"
      },
      "source": [
        "##**Assignment**\n",
        "1) Run object detection on three images that contain objects the model is trained to classify. Don't make it easy for the model -- pick images that contain multiple types of objects, partial or overlapping objects, etc. Evaluate how well the model performed on each image. Did it correctly detect and classify every object? Are the bounding boxes and masks accurate? Include a visualization of the results for each image. \n",
        "\n",
        "2) Run object detection on two images that do not contain objects that the model is trained to classify. Evaluate the results. Does the model incorrectly detect any objects? If so, can you see why it might have gotten confused?\n",
        "\n",
        "3) Based on the results for all five images, evaluate the model's overall performance. How good is it at detecting and classifying images? How good is it at drawing bounding boxes and masks? What are its strengths and weaknesses? How might its weakness be improved? "
      ]
    }
  ]
}
